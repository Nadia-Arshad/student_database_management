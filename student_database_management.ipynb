{
  "nbformat": 4,
  "nbformat_minor": 0,
  "metadata": {
    "colab": {
      "provenance": []
    },
    "kernelspec": {
      "name": "python3",
      "display_name": "Python 3"
    },
    "language_info": {
      "name": "python"
    }
  },
  "cells": [
    {
      "cell_type": "code",
      "source": [
        "\n",
        "def student_database_management():\n",
        "\n",
        "    # writing a function.\n",
        "\n",
        "    print(\"Welcome to Student Database System!\")\n",
        "    student_list = []    # initialising the list\n",
        "    student_ID = 1       # initialising the counter from 1\n",
        "\n",
        "    while True:\n",
        "        new_student = input(\"Add a student. \").title()   # making sure the name is added in title\n",
        "        if new_student == \"Stop\":                        # bcz of title method had to put in stop with a capital \"S\"\n",
        "            break\n",
        "        if new_student in student_list:\n",
        "          print(\"Duplicate Student\")\n",
        "        else:\n",
        "          student_list.append((new_student, student_ID))\n",
        "          student_ID += 1\n",
        "\n",
        "\n",
        "    print(\"Complete list of students, (tuples)\")\n",
        "    print(student_list)\n",
        "\n",
        "    for new_student, student_ID in student_list:\n",
        "        print(f\"ID: {student_ID}, Name: {new_student}\")\n",
        "\n",
        "    print(f\"Total number of students: {len(student_list)}\")\n",
        "    total_length = sum(len(new_student) for new_student, student_ID in student_list)   # I could also use \"_\" instead of student_ID in this line cz \"_\" will not be used later.\n",
        "    print(f\"Length of names: {total_length}\")\n",
        "\n",
        "    longest_word = \"\"\n",
        "    for new_student, student_ID in student_list:\n",
        "      if len(new_student) > len(longest_word):\n",
        "        longest_word = new_student\n",
        "\n",
        "    print(f\"Student with the longest name: {longest_word}\")\n",
        "\n",
        "\n",
        "    shortest_word = student_list[0][0]\n",
        "    for new_student, student_ID in student_list:\n",
        "      if len(new_student) < len(shortest_word):\n",
        "        shortest_word = new_student\n",
        "\n",
        "    print(f\"Student with the shortest name: {shortest_word}\")\n",
        "\n",
        "\n",
        "\n",
        "#Alternate code:\n",
        "\n",
        "    # print(f\"Student with the longest name: {max(student_list, key=lambda x: len(x[0]))[0]}\")\n",
        "    # print(f\"Student with the shortest name: {min(student_list, key=lambda x: len(x[0]))[0]}\")\n",
        "\n",
        "\n",
        "\n"
      ],
      "metadata": {
        "id": "r6bl_o_exLjn"
      },
      "execution_count": 11,
      "outputs": []
    },
    {
      "cell_type": "code",
      "source": [
        "student_database_management()"
      ],
      "metadata": {
        "colab": {
          "base_uri": "https://localhost:8080/"
        },
        "id": "ztSv9LGVxaBh",
        "outputId": "bd38b86f-6878-4d51-f1f6-b2be3f49ef47"
      },
      "execution_count": 12,
      "outputs": [
        {
          "output_type": "stream",
          "name": "stdout",
          "text": [
            "Welcome to Student Database System!\n",
            "Add a student. nadia\n",
            "Add a student. arshad\n",
            "Add a student. madi\n",
            "Add a student. minahil\n",
            "Add a student. ali\n",
            "Add a student. stop\n",
            "Complete list of students, (tuples)\n",
            "[('Nadia', 1), ('Arshad', 2), ('Madi', 3), ('Minahil', 4), ('Ali', 5)]\n",
            "ID: 1, Name: Nadia\n",
            "ID: 2, Name: Arshad\n",
            "ID: 3, Name: Madi\n",
            "ID: 4, Name: Minahil\n",
            "ID: 5, Name: Ali\n",
            "Total number of students: 5\n",
            "Length of names: 25\n",
            "Student with the longest name: Minahil\n",
            "Student with the shortest name: Ali\n"
          ]
        }
      ]
    },
    {
      "cell_type": "code",
      "source": [],
      "metadata": {
        "id": "WgdIZXeyx09t"
      },
      "execution_count": null,
      "outputs": []
    }
  ]
}